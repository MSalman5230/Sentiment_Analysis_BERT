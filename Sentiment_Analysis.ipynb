{
 "cells": [
  {
   "cell_type": "markdown",
   "metadata": {},
   "source": [
    "# Dependencies"
   ]
  },
  {
   "cell_type": "code",
   "execution_count": 1,
   "metadata": {},
   "outputs": [],
   "source": [
    "from transformers import AutoTokenizer, AutoModelForSequenceClassification  # for using pretrained mode from huggingface.co\n",
    "import torch\n",
    "import requests\n",
    "from bs4 import BeautifulSoup\n",
    "import re\n",
    "import numpy as np\n",
    "import pandas as pd\n"
   ]
  },
  {
   "cell_type": "markdown",
   "metadata": {},
   "source": [
    "# Input for Yelp place"
   ]
  },
  {
   "cell_type": "code",
   "execution_count": 2,
   "metadata": {},
   "outputs": [],
   "source": [
    "url='https://www.yelp.co.uk/biz/federal-cafe-and-bar-manchester-2'\n",
    "total_page=10"
   ]
  },
  {
   "cell_type": "markdown",
   "metadata": {},
   "source": [
    "# Getting Reviews from the URL"
   ]
  },
  {
   "cell_type": "code",
   "execution_count": 3,
   "metadata": {},
   "outputs": [
    {
     "name": "stdout",
     "output_type": "stream",
     "text": [
      "scraping url https://www.yelp.co.uk/biz/federal-cafe-and-bar-manchester-2?start=0\n",
      "scraping url https://www.yelp.co.uk/biz/federal-cafe-and-bar-manchester-2?start=10\n",
      "scraping url https://www.yelp.co.uk/biz/federal-cafe-and-bar-manchester-2?start=20\n",
      "scraping url https://www.yelp.co.uk/biz/federal-cafe-and-bar-manchester-2?start=30\n",
      "scraping url https://www.yelp.co.uk/biz/federal-cafe-and-bar-manchester-2?start=40\n",
      "scraping url https://www.yelp.co.uk/biz/federal-cafe-and-bar-manchester-2?start=50\n",
      "scraping url https://www.yelp.co.uk/biz/federal-cafe-and-bar-manchester-2?start=60\n",
      "scraping url https://www.yelp.co.uk/biz/federal-cafe-and-bar-manchester-2?start=70\n",
      "scraping url https://www.yelp.co.uk/biz/federal-cafe-and-bar-manchester-2?start=80\n",
      "scraping url https://www.yelp.co.uk/biz/federal-cafe-and-bar-manchester-2?start=90\n"
     ]
    }
   ],
   "source": [
    "reviews=[]\n",
    "\n",
    "url=url+'?start='\n",
    "\n",
    "#scraping all the pages for reviews\n",
    "for page in range(0,total_page*10,10):\n",
    "\n",
    "    pageurl=url+str(page)\n",
    "    print(\"scraping url {}\".format(pageurl))\n",
    "    r = requests.get(url+str(page))\n",
    "    soup = BeautifulSoup(r.text, 'html.parser')\n",
    "    regex = re.compile('.*comment.*')    # User reviews are under \"comment__09f24__gu0rG css-1sufhje\" class so only comment  regex was seleted\n",
    "    results = soup.find_all('p', {'class':regex})\n",
    "    reviews_single_page = [result.text for result in results]\n",
    "    reviews = reviews + reviews_single_page"
   ]
  },
  {
   "cell_type": "code",
   "execution_count": 4,
   "metadata": {},
   "outputs": [
    {
     "data": {
      "text/html": [
       "<div>\n",
       "<style scoped>\n",
       "    .dataframe tbody tr th:only-of-type {\n",
       "        vertical-align: middle;\n",
       "    }\n",
       "\n",
       "    .dataframe tbody tr th {\n",
       "        vertical-align: top;\n",
       "    }\n",
       "\n",
       "    .dataframe thead th {\n",
       "        text-align: right;\n",
       "    }\n",
       "</style>\n",
       "<table border=\"1\" class=\"dataframe\">\n",
       "  <thead>\n",
       "    <tr style=\"text-align: right;\">\n",
       "      <th></th>\n",
       "      <th>review</th>\n",
       "    </tr>\n",
       "  </thead>\n",
       "  <tbody>\n",
       "    <tr>\n",
       "      <th>0</th>\n",
       "      <td>This review is solely based on the take out me...</td>\n",
       "    </tr>\n",
       "    <tr>\n",
       "      <th>1</th>\n",
       "      <td>I've walked by this place a lot and decided to...</td>\n",
       "    </tr>\n",
       "    <tr>\n",
       "      <th>2</th>\n",
       "      <td>Federal Cafe &amp; Bar is one of Manchester's most...</td>\n",
       "    </tr>\n",
       "  </tbody>\n",
       "</table>\n",
       "</div>"
      ],
      "text/plain": [
       "                                              review\n",
       "0  This review is solely based on the take out me...\n",
       "1  I've walked by this place a lot and decided to...\n",
       "2  Federal Cafe & Bar is one of Manchester's most..."
      ]
     },
     "execution_count": 4,
     "metadata": {},
     "output_type": "execute_result"
    }
   ],
   "source": [
    "df = pd.DataFrame(np.array(reviews), columns=['review']) # Putting reviews as a pandas DF\n",
    "df.head(3)"
   ]
  },
  {
   "cell_type": "markdown",
   "metadata": {},
   "source": [
    "# PreTrained BERT models and tokenizer"
   ]
  },
  {
   "cell_type": "code",
   "execution_count": 5,
   "metadata": {},
   "outputs": [],
   "source": [
    "tokenizer = AutoTokenizer.from_pretrained('nlptown/bert-base-multilingual-uncased-sentiment') #using bert this tokenizer for tokenizing\n",
    "\n",
    "model = AutoModelForSequenceClassification.from_pretrained('nlptown/bert-base-multilingual-uncased-sentiment') # using pretrained BERT model"
   ]
  },
  {
   "cell_type": "code",
   "execution_count": 6,
   "metadata": {},
   "outputs": [],
   "source": [
    "# Sentiment score funtion\n",
    "def sentiment_score(review):\n",
    "    tokens = tokenizer.encode(review, return_tensors='pt') # Tokenize the string ie review\n",
    "    result = model(tokens) # get result from the pretained BERT sentiment model\n",
    "    return int(torch.argmax(result.logits))+1 # +1 because its return array pos becasue torch.argmax returns the index of the higher value. This model spit out 5 value for each star rating."
   ]
  },
  {
   "cell_type": "code",
   "execution_count": 7,
   "metadata": {},
   "outputs": [],
   "source": [
    "df['sentiment'] = df['review'].apply(lambda x: sentiment_score(x[:512])) #  512 was set due to tokenizer limitation: Getting sentiment score for all the reviews and assinging to a column\n"
   ]
  },
  {
   "cell_type": "code",
   "execution_count": 8,
   "metadata": {},
   "outputs": [
    {
     "name": "stdout",
     "output_type": "stream",
     "text": [
      "Average rating of this place is 4.2772277227722775\n"
     ]
    }
   ],
   "source": [
    "print('Average rating of this place is',df['sentiment'].mean())"
   ]
  }
 ],
 "metadata": {
  "interpreter": {
   "hash": "234055e6463c59fef548f863acbd3083e6c1072752b8dc925adf2f10a3fa232d"
  },
  "kernelspec": {
   "display_name": "Python 3.9.7 64-bit",
   "language": "python",
   "name": "python3"
  },
  "language_info": {
   "codemirror_mode": {
    "name": "ipython",
    "version": 3
   },
   "file_extension": ".py",
   "mimetype": "text/x-python",
   "name": "python",
   "nbconvert_exporter": "python",
   "pygments_lexer": "ipython3",
   "version": "3.9.7"
  },
  "orig_nbformat": 4
 },
 "nbformat": 4,
 "nbformat_minor": 2
}
